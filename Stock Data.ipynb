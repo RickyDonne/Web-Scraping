{
 "cells": [
  {
   "cell_type": "markdown",
   "id": "b3469739",
   "metadata": {},
   "source": [
    "# Web Scraping Stock Data of Tesla and plotting a chart of its Annual Revenue"
   ]
  },
  {
   "cell_type": "code",
   "execution_count": 1,
   "id": "df8b3512",
   "metadata": {},
   "outputs": [],
   "source": [
    "# importing the necessary libraries\n",
    "import pandas as pd\n",
    "import requests\n",
    "from bs4 import BeautifulSoup"
   ]
  },
  {
   "cell_type": "code",
   "execution_count": 2,
   "id": "1454d089",
   "metadata": {},
   "outputs": [],
   "source": [
    "# www.macrotrends.net is a popular stock market website. I will use it to get Tesla's information\n",
    "dividends = \"https://www.macrotrends.net/stocks/charts/TSLA/tesla/revenue?utm_medium=Exinfluencer&utm_source=Exinfluencer&utm_content=000026UJ&utm_term=10006555&utm_id=NA-SkillsNetwork-Channel-SkillsNetworkCoursesIBMDeveloperSkillsNetworkPY0220ENSkillsNetwork23455606-2021-01-01\"\n",
    "data = \"https://www.macrotrends.net/stocks/charts/TSLA/tesla/stock-price-history\""
   ]
  },
  {
   "cell_type": "code",
   "execution_count": 3,
   "id": "c01158bd",
   "metadata": {},
   "outputs": [],
   "source": [
    "#getting request data\n",
    "tesla_dividends = requests.get(dividends).text\n",
    "tesla_data = requests.get(data).text"
   ]
  },
  {
   "cell_type": "code",
   "execution_count": 4,
   "id": "b2772afe",
   "metadata": {},
   "outputs": [],
   "source": [
    "#Creating Beautiful Soup Objects\n",
    "tesla_div_soup = BeautifulSoup(tesla_dividends, \"html.parser\")\n",
    "tesla_data_soup = BeautifulSoup(tesla_data, \"html.parser\")"
   ]
  },
  {
   "cell_type": "code",
   "execution_count": 5,
   "id": "5083d047",
   "metadata": {},
   "outputs": [],
   "source": [
    "#Creating a dataframe to store information about historical data of the stock\n",
    "tesla_history = pd.DataFrame(columns=[\"Year\", \"Stock Price\", \"Open\", \"High\", \"Low\", \"Close\", \"Annual %Change\"])\n",
    "\n",
    "# First we isolate the body of the table which contains all the information\n",
    "# Then we loop through each row and find all the column values for each row\n",
    "for row in tesla_data_soup.find(\"tbody\").find_all('tr'):\n",
    "    col = row.find_all(\"td\")\n",
    "    year = col[0].text\n",
    "    price = col[1].text\n",
    "    Open = col[2].text\n",
    "    high = col[3].text\n",
    "    low = col[4].text\n",
    "    close = col[5].text\n",
    "    change = col[6].text\n",
    "    \n",
    "    # Finally we append the data of each row to the table\n",
    "    tesla_history = tesla_history.append({\"Year\":year, \"Stock Price\": price, \"Open\":Open,\n",
    "                                      \"High\":high, \"Low\":low, \"Close\":close,\n",
    "                                      \"Annual %Change\":change}, ignore_index=True)    "
   ]
  },
  {
   "cell_type": "code",
   "execution_count": 6,
   "id": "61db9c54",
   "metadata": {},
   "outputs": [
    {
     "data": {
      "text/html": [
       "<div>\n",
       "<style scoped>\n",
       "    .dataframe tbody tr th:only-of-type {\n",
       "        vertical-align: middle;\n",
       "    }\n",
       "\n",
       "    .dataframe tbody tr th {\n",
       "        vertical-align: top;\n",
       "    }\n",
       "\n",
       "    .dataframe thead th {\n",
       "        text-align: right;\n",
       "    }\n",
       "</style>\n",
       "<table border=\"1\" class=\"dataframe\">\n",
       "  <thead>\n",
       "    <tr style=\"text-align: right;\">\n",
       "      <th></th>\n",
       "      <th>Year</th>\n",
       "      <th>Stock Price</th>\n",
       "      <th>Open</th>\n",
       "      <th>High</th>\n",
       "      <th>Low</th>\n",
       "      <th>Close</th>\n",
       "      <th>Annual %Change</th>\n",
       "    </tr>\n",
       "  </thead>\n",
       "  <tbody>\n",
       "    <tr>\n",
       "      <th>0</th>\n",
       "      <td>2021</td>\n",
       "      <td>779.9945</td>\n",
       "      <td>729.7700</td>\n",
       "      <td>1229.9100</td>\n",
       "      <td>563.0000</td>\n",
       "      <td>1056.7800</td>\n",
       "      <td>49.76%</td>\n",
       "    </tr>\n",
       "    <tr>\n",
       "      <th>1</th>\n",
       "      <td>2020</td>\n",
       "      <td>289.9971</td>\n",
       "      <td>86.0520</td>\n",
       "      <td>705.6700</td>\n",
       "      <td>72.2440</td>\n",
       "      <td>705.6700</td>\n",
       "      <td>743.44%</td>\n",
       "    </tr>\n",
       "    <tr>\n",
       "      <th>2</th>\n",
       "      <td>2019</td>\n",
       "      <td>54.7060</td>\n",
       "      <td>62.0240</td>\n",
       "      <td>86.1880</td>\n",
       "      <td>35.7940</td>\n",
       "      <td>83.6660</td>\n",
       "      <td>25.70%</td>\n",
       "    </tr>\n",
       "    <tr>\n",
       "      <th>3</th>\n",
       "      <td>2018</td>\n",
       "      <td>63.4620</td>\n",
       "      <td>64.1060</td>\n",
       "      <td>75.9140</td>\n",
       "      <td>50.1120</td>\n",
       "      <td>66.5600</td>\n",
       "      <td>6.89%</td>\n",
       "    </tr>\n",
       "    <tr>\n",
       "      <th>4</th>\n",
       "      <td>2017</td>\n",
       "      <td>62.8633</td>\n",
       "      <td>43.3980</td>\n",
       "      <td>77.0000</td>\n",
       "      <td>43.3980</td>\n",
       "      <td>62.2700</td>\n",
       "      <td>45.70%</td>\n",
       "    </tr>\n",
       "    <tr>\n",
       "      <th>5</th>\n",
       "      <td>2016</td>\n",
       "      <td>41.9535</td>\n",
       "      <td>44.6820</td>\n",
       "      <td>53.0840</td>\n",
       "      <td>28.7340</td>\n",
       "      <td>42.7380</td>\n",
       "      <td>-10.97%</td>\n",
       "    </tr>\n",
       "    <tr>\n",
       "      <th>6</th>\n",
       "      <td>2015</td>\n",
       "      <td>46.0085</td>\n",
       "      <td>43.8620</td>\n",
       "      <td>56.4520</td>\n",
       "      <td>37.0000</td>\n",
       "      <td>48.0020</td>\n",
       "      <td>7.91%</td>\n",
       "    </tr>\n",
       "    <tr>\n",
       "      <th>7</th>\n",
       "      <td>2014</td>\n",
       "      <td>44.6658</td>\n",
       "      <td>30.0200</td>\n",
       "      <td>57.2080</td>\n",
       "      <td>27.8680</td>\n",
       "      <td>44.4820</td>\n",
       "      <td>47.85%</td>\n",
       "    </tr>\n",
       "    <tr>\n",
       "      <th>8</th>\n",
       "      <td>2013</td>\n",
       "      <td>20.8803</td>\n",
       "      <td>7.0720</td>\n",
       "      <td>38.6740</td>\n",
       "      <td>6.5820</td>\n",
       "      <td>30.0858</td>\n",
       "      <td>344.14%</td>\n",
       "    </tr>\n",
       "    <tr>\n",
       "      <th>9</th>\n",
       "      <td>2012</td>\n",
       "      <td>6.2337</td>\n",
       "      <td>5.6160</td>\n",
       "      <td>7.6020</td>\n",
       "      <td>4.5580</td>\n",
       "      <td>6.7740</td>\n",
       "      <td>18.59%</td>\n",
       "    </tr>\n",
       "    <tr>\n",
       "      <th>10</th>\n",
       "      <td>2011</td>\n",
       "      <td>5.3609</td>\n",
       "      <td>5.3240</td>\n",
       "      <td>6.9880</td>\n",
       "      <td>4.3660</td>\n",
       "      <td>5.7120</td>\n",
       "      <td>7.25%</td>\n",
       "    </tr>\n",
       "    <tr>\n",
       "      <th>11</th>\n",
       "      <td>2010</td>\n",
       "      <td>4.6683</td>\n",
       "      <td>4.7780</td>\n",
       "      <td>7.0940</td>\n",
       "      <td>3.1600</td>\n",
       "      <td>5.3260</td>\n",
       "      <td>0.00%</td>\n",
       "    </tr>\n",
       "  </tbody>\n",
       "</table>\n",
       "</div>"
      ],
      "text/plain": [
       "    Year Stock Price      Open       High       Low      Close Annual %Change\n",
       "0   2021    779.9945  729.7700  1229.9100  563.0000  1056.7800         49.76%\n",
       "1   2020    289.9971   86.0520   705.6700   72.2440   705.6700        743.44%\n",
       "2   2019     54.7060   62.0240    86.1880   35.7940    83.6660         25.70%\n",
       "3   2018     63.4620   64.1060    75.9140   50.1120    66.5600          6.89%\n",
       "4   2017     62.8633   43.3980    77.0000   43.3980    62.2700         45.70%\n",
       "5   2016     41.9535   44.6820    53.0840   28.7340    42.7380        -10.97%\n",
       "6   2015     46.0085   43.8620    56.4520   37.0000    48.0020          7.91%\n",
       "7   2014     44.6658   30.0200    57.2080   27.8680    44.4820         47.85%\n",
       "8   2013     20.8803    7.0720    38.6740    6.5820    30.0858        344.14%\n",
       "9   2012      6.2337    5.6160     7.6020    4.5580     6.7740         18.59%\n",
       "10  2011      5.3609    5.3240     6.9880    4.3660     5.7120          7.25%\n",
       "11  2010      4.6683    4.7780     7.0940    3.1600     5.3260          0.00%"
      ]
     },
     "execution_count": 6,
     "metadata": {},
     "output_type": "execute_result"
    }
   ],
   "source": [
    "tesla_history"
   ]
  },
  {
   "cell_type": "code",
   "execution_count": 7,
   "id": "67c3210f",
   "metadata": {},
   "outputs": [
    {
     "data": {
      "text/plain": [
       "<title>Tesla Revenue 2009-2021 | TSLA | MacroTrends</title>"
      ]
     },
     "execution_count": 7,
     "metadata": {},
     "output_type": "execute_result"
    }
   ],
   "source": [
    "tesla_div_soup.title"
   ]
  },
  {
   "cell_type": "code",
   "execution_count": 8,
   "id": "a16a10fc",
   "metadata": {},
   "outputs": [
    {
     "data": {
      "text/html": [
       "<div>\n",
       "<style scoped>\n",
       "    .dataframe tbody tr th:only-of-type {\n",
       "        vertical-align: middle;\n",
       "    }\n",
       "\n",
       "    .dataframe tbody tr th {\n",
       "        vertical-align: top;\n",
       "    }\n",
       "\n",
       "    .dataframe thead th {\n",
       "        text-align: right;\n",
       "    }\n",
       "</style>\n",
       "<table border=\"1\" class=\"dataframe\">\n",
       "  <thead>\n",
       "    <tr style=\"text-align: right;\">\n",
       "      <th></th>\n",
       "      <th>Date</th>\n",
       "      <th>Revenue(Millions of US $)</th>\n",
       "    </tr>\n",
       "  </thead>\n",
       "  <tbody>\n",
       "    <tr>\n",
       "      <th>0</th>\n",
       "      <td>2020</td>\n",
       "      <td>$31,536</td>\n",
       "    </tr>\n",
       "    <tr>\n",
       "      <th>1</th>\n",
       "      <td>2019</td>\n",
       "      <td>$24,578</td>\n",
       "    </tr>\n",
       "    <tr>\n",
       "      <th>2</th>\n",
       "      <td>2018</td>\n",
       "      <td>$21,461</td>\n",
       "    </tr>\n",
       "    <tr>\n",
       "      <th>3</th>\n",
       "      <td>2017</td>\n",
       "      <td>$11,759</td>\n",
       "    </tr>\n",
       "    <tr>\n",
       "      <th>4</th>\n",
       "      <td>2016</td>\n",
       "      <td>$7,000</td>\n",
       "    </tr>\n",
       "    <tr>\n",
       "      <th>5</th>\n",
       "      <td>2015</td>\n",
       "      <td>$4,046</td>\n",
       "    </tr>\n",
       "    <tr>\n",
       "      <th>6</th>\n",
       "      <td>2014</td>\n",
       "      <td>$3,198</td>\n",
       "    </tr>\n",
       "    <tr>\n",
       "      <th>7</th>\n",
       "      <td>2013</td>\n",
       "      <td>$2,013</td>\n",
       "    </tr>\n",
       "    <tr>\n",
       "      <th>8</th>\n",
       "      <td>2012</td>\n",
       "      <td>$413</td>\n",
       "    </tr>\n",
       "    <tr>\n",
       "      <th>9</th>\n",
       "      <td>2011</td>\n",
       "      <td>$204</td>\n",
       "    </tr>\n",
       "    <tr>\n",
       "      <th>10</th>\n",
       "      <td>2010</td>\n",
       "      <td>$117</td>\n",
       "    </tr>\n",
       "    <tr>\n",
       "      <th>11</th>\n",
       "      <td>2009</td>\n",
       "      <td>$112</td>\n",
       "    </tr>\n",
       "    <tr>\n",
       "      <th>12</th>\n",
       "      <td>2008</td>\n",
       "      <td>$15</td>\n",
       "    </tr>\n",
       "  </tbody>\n",
       "</table>\n",
       "</div>"
      ],
      "text/plain": [
       "    Date Revenue(Millions of US $)\n",
       "0   2020                   $31,536\n",
       "1   2019                   $24,578\n",
       "2   2018                   $21,461\n",
       "3   2017                   $11,759\n",
       "4   2016                    $7,000\n",
       "5   2015                    $4,046\n",
       "6   2014                    $3,198\n",
       "7   2013                    $2,013\n",
       "8   2012                      $413\n",
       "9   2011                      $204\n",
       "10  2010                      $117\n",
       "11  2009                      $112\n",
       "12  2008                       $15"
      ]
     },
     "execution_count": 8,
     "metadata": {},
     "output_type": "execute_result"
    }
   ],
   "source": [
    "tesla = pd.DataFrame(columns = [\"Date\", \"Revenue(Millions of US $)\"])\n",
    "\n",
    "for row in tesla_div_soup.tbody.find_all('tr'):\n",
    "    col = row.find_all('td')\n",
    "    Year = col[0].text\n",
    "    Rev = col[1].text\n",
    "    tesla = tesla.append({\"Date\":Year, \"Revenue(Millions of US $)\":Rev}, ignore_index=True)\n",
    "    \n",
    "tesla"
   ]
  },
  {
   "cell_type": "code",
   "execution_count": 9,
   "id": "2420588a",
   "metadata": {},
   "outputs": [
    {
     "data": {
      "text/html": [
       "<div>\n",
       "<style scoped>\n",
       "    .dataframe tbody tr th:only-of-type {\n",
       "        vertical-align: middle;\n",
       "    }\n",
       "\n",
       "    .dataframe tbody tr th {\n",
       "        vertical-align: top;\n",
       "    }\n",
       "\n",
       "    .dataframe thead th {\n",
       "        text-align: right;\n",
       "    }\n",
       "</style>\n",
       "<table border=\"1\" class=\"dataframe\">\n",
       "  <thead>\n",
       "    <tr style=\"text-align: right;\">\n",
       "      <th></th>\n",
       "      <th>Date</th>\n",
       "      <th>Revenue(Millions of US $)</th>\n",
       "    </tr>\n",
       "  </thead>\n",
       "  <tbody>\n",
       "    <tr>\n",
       "      <th>0</th>\n",
       "      <td>2020</td>\n",
       "      <td>31536</td>\n",
       "    </tr>\n",
       "    <tr>\n",
       "      <th>1</th>\n",
       "      <td>2019</td>\n",
       "      <td>24578</td>\n",
       "    </tr>\n",
       "    <tr>\n",
       "      <th>2</th>\n",
       "      <td>2018</td>\n",
       "      <td>21461</td>\n",
       "    </tr>\n",
       "    <tr>\n",
       "      <th>3</th>\n",
       "      <td>2017</td>\n",
       "      <td>11759</td>\n",
       "    </tr>\n",
       "    <tr>\n",
       "      <th>4</th>\n",
       "      <td>2016</td>\n",
       "      <td>7000</td>\n",
       "    </tr>\n",
       "    <tr>\n",
       "      <th>5</th>\n",
       "      <td>2015</td>\n",
       "      <td>4046</td>\n",
       "    </tr>\n",
       "    <tr>\n",
       "      <th>6</th>\n",
       "      <td>2014</td>\n",
       "      <td>3198</td>\n",
       "    </tr>\n",
       "    <tr>\n",
       "      <th>7</th>\n",
       "      <td>2013</td>\n",
       "      <td>2013</td>\n",
       "    </tr>\n",
       "    <tr>\n",
       "      <th>8</th>\n",
       "      <td>2012</td>\n",
       "      <td>413</td>\n",
       "    </tr>\n",
       "    <tr>\n",
       "      <th>9</th>\n",
       "      <td>2011</td>\n",
       "      <td>204</td>\n",
       "    </tr>\n",
       "    <tr>\n",
       "      <th>10</th>\n",
       "      <td>2010</td>\n",
       "      <td>117</td>\n",
       "    </tr>\n",
       "    <tr>\n",
       "      <th>11</th>\n",
       "      <td>2009</td>\n",
       "      <td>112</td>\n",
       "    </tr>\n",
       "    <tr>\n",
       "      <th>12</th>\n",
       "      <td>2008</td>\n",
       "      <td>15</td>\n",
       "    </tr>\n",
       "  </tbody>\n",
       "</table>\n",
       "</div>"
      ],
      "text/plain": [
       "    Date Revenue(Millions of US $)\n",
       "0   2020                     31536\n",
       "1   2019                     24578\n",
       "2   2018                     21461\n",
       "3   2017                     11759\n",
       "4   2016                      7000\n",
       "5   2015                      4046\n",
       "6   2014                      3198\n",
       "7   2013                      2013\n",
       "8   2012                       413\n",
       "9   2011                       204\n",
       "10  2010                       117\n",
       "11  2009                       112\n",
       "12  2008                        15"
      ]
     },
     "execution_count": 9,
     "metadata": {},
     "output_type": "execute_result"
    }
   ],
   "source": [
    "# Stripping the Revenue columns off the special Characters\n",
    "tesla['Revenue(Millions of US $)'] = tesla['Revenue(Millions of US $)'].replace('[$,]',\"\", regex = True)\n",
    "tesla"
   ]
  },
  {
   "cell_type": "markdown",
   "id": "b2494d0f",
   "metadata": {},
   "source": [
    "### Checking the data type of the columns"
   ]
  },
  {
   "cell_type": "code",
   "execution_count": 10,
   "id": "1cfcebce",
   "metadata": {},
   "outputs": [
    {
     "data": {
      "text/plain": [
       "Date                         object\n",
       "Revenue(Millions of US $)    object\n",
       "dtype: object"
      ]
     },
     "execution_count": 10,
     "metadata": {},
     "output_type": "execute_result"
    }
   ],
   "source": [
    "tesla.dtypes"
   ]
  },
  {
   "cell_type": "code",
   "execution_count": 11,
   "id": "5469cb91",
   "metadata": {},
   "outputs": [],
   "source": [
    "tesla = tesla.astype('int32')"
   ]
  },
  {
   "cell_type": "code",
   "execution_count": 12,
   "id": "e6e49107",
   "metadata": {},
   "outputs": [
    {
     "data": {
      "text/plain": [
       "Date                         int32\n",
       "Revenue(Millions of US $)    int32\n",
       "dtype: object"
      ]
     },
     "execution_count": 12,
     "metadata": {},
     "output_type": "execute_result"
    }
   ],
   "source": [
    "tesla.dtypes"
   ]
  },
  {
   "cell_type": "markdown",
   "id": "3b3a1351",
   "metadata": {},
   "source": [
    "## Plotting a line chart of Revenue per Year"
   ]
  },
  {
   "cell_type": "code",
   "execution_count": 13,
   "id": "d0da4075",
   "metadata": {},
   "outputs": [
    {
     "data": {
      "text/plain": [
       "Text(0.5, 1.0, 'Revenue per Year')"
      ]
     },
     "execution_count": 13,
     "metadata": {},
     "output_type": "execute_result"
    },
    {
     "data": {
      "image/png": "[encoded data removed]",
      "text/plain": [
       "<Figure size 432x288 with 1 Axes>"
      ]
     },
     "metadata": {
      "needs_background": "light"
     },
     "output_type": "display_data"
    }
   ],
   "source": [
    "%matplotlib inline\n",
    "import matplotlib as plt\n",
    "from matplotlib import pyplot \n",
    "\n",
    "plt.pyplot.plot(tesla['Date'], tesla['Revenue(Millions of US $)'])\n",
    "plt.pyplot.xlabel(\"Year\")\n",
    "plt.pyplot.ylabel(\"Revenue in Millions of US $\")\n",
    "plt.pyplot.title(\"Revenue per Year\")"
   ]
  },
  {
   "cell_type": "markdown",
   "id": "bad93a0b",
   "metadata": {},
   "source": [
    "## Author\n",
    "\n",
    "### Debarshi Biswas"
   ]
  }
 ],
 "metadata": {
  "kernelspec": {
   "display_name": "Python 3",
   "language": "python",
   "name": "python3"
  },
  "language_info": {
   "codemirror_mode": {
    "name": "ipython",
    "version": 3
   },
   "file_extension": ".py",
   "mimetype": "text/x-python",
   "name": "python",
   "nbconvert_exporter": "python",
   "pygments_lexer": "ipython3",
   "version": "3.8.8"
  }
 },
 "nbformat": 4,
 "nbformat_minor": 5
}
